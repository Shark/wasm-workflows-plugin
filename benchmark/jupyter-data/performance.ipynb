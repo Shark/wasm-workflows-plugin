{
 "cells": [
  {
   "cell_type": "code",
   "execution_count": 2,
   "id": "dbd29d9d-9c54-4753-abc4-6b89f1251ae4",
   "metadata": {},
   "outputs": [],
   "source": [
    "import numpy as np\n",
    "import pandas as pd\n",
    "from matplotlib import pyplot as plt\n",
    "import seaborn as sns\n",
    "from matplotlib import rcParams"
   ]
  },
  {
   "cell_type": "code",
   "execution_count": 44,
   "id": "310f8619-ffe1-43dc-97bc-e12fe3e987af",
   "metadata": {},
   "outputs": [
    {
     "data": {
      "text/html": [
       "<div>\n",
       "<style scoped>\n",
       "    .dataframe tbody tr th:only-of-type {\n",
       "        vertical-align: middle;\n",
       "    }\n",
       "\n",
       "    .dataframe tbody tr th {\n",
       "        vertical-align: top;\n",
       "    }\n",
       "\n",
       "    .dataframe thead th {\n",
       "        text-align: right;\n",
       "    }\n",
       "</style>\n",
       "<table border=\"1\" class=\"dataframe\">\n",
       "  <thead>\n",
       "    <tr style=\"text-align: right;\">\n",
       "      <th></th>\n",
       "      <th>period</th>\n",
       "      <th>count</th>\n",
       "    </tr>\n",
       "    <tr>\n",
       "      <th>time_utc</th>\n",
       "      <th></th>\n",
       "      <th></th>\n",
       "    </tr>\n",
       "  </thead>\n",
       "  <tbody>\n",
       "    <tr>\n",
       "      <th>2022-06-19 18:20:00+00:00</th>\n",
       "      <td>0</td>\n",
       "      <td>83</td>\n",
       "    </tr>\n",
       "    <tr>\n",
       "      <th>2022-06-19 18:25:00+00:00</th>\n",
       "      <td>1</td>\n",
       "      <td>517</td>\n",
       "    </tr>\n",
       "    <tr>\n",
       "      <th>2022-06-19 18:30:00+00:00</th>\n",
       "      <td>2</td>\n",
       "      <td>600</td>\n",
       "    </tr>\n",
       "    <tr>\n",
       "      <th>2022-06-19 18:35:00+00:00</th>\n",
       "      <td>3</td>\n",
       "      <td>500</td>\n",
       "    </tr>\n",
       "    <tr>\n",
       "      <th>2022-06-19 18:40:00+00:00</th>\n",
       "      <td>4</td>\n",
       "      <td>600</td>\n",
       "    </tr>\n",
       "    <tr>\n",
       "      <th>2022-06-19 18:45:00+00:00</th>\n",
       "      <td>5</td>\n",
       "      <td>546</td>\n",
       "    </tr>\n",
       "    <tr>\n",
       "      <th>2022-06-19 18:50:00+00:00</th>\n",
       "      <td>6</td>\n",
       "      <td>554</td>\n",
       "    </tr>\n",
       "    <tr>\n",
       "      <th>2022-06-19 18:55:00+00:00</th>\n",
       "      <td>7</td>\n",
       "      <td>600</td>\n",
       "    </tr>\n",
       "    <tr>\n",
       "      <th>2022-06-19 19:00:00+00:00</th>\n",
       "      <td>8</td>\n",
       "      <td>600</td>\n",
       "    </tr>\n",
       "    <tr>\n",
       "      <th>2022-06-19 19:05:00+00:00</th>\n",
       "      <td>9</td>\n",
       "      <td>535</td>\n",
       "    </tr>\n",
       "    <tr>\n",
       "      <th>2022-06-19 19:10:00+00:00</th>\n",
       "      <td>10</td>\n",
       "      <td>565</td>\n",
       "    </tr>\n",
       "    <tr>\n",
       "      <th>2022-06-19 19:15:00+00:00</th>\n",
       "      <td>11</td>\n",
       "      <td>507</td>\n",
       "    </tr>\n",
       "    <tr>\n",
       "      <th>2022-06-19 19:20:00+00:00</th>\n",
       "      <td>12</td>\n",
       "      <td>493</td>\n",
       "    </tr>\n",
       "    <tr>\n",
       "      <th>2022-06-19 19:25:00+00:00</th>\n",
       "      <td>13</td>\n",
       "      <td>500</td>\n",
       "    </tr>\n",
       "    <tr>\n",
       "      <th>2022-06-19 19:30:00+00:00</th>\n",
       "      <td>14</td>\n",
       "      <td>500</td>\n",
       "    </tr>\n",
       "    <tr>\n",
       "      <th>2022-06-19 19:35:00+00:00</th>\n",
       "      <td>15</td>\n",
       "      <td>489</td>\n",
       "    </tr>\n",
       "    <tr>\n",
       "      <th>2022-06-19 19:40:00+00:00</th>\n",
       "      <td>16</td>\n",
       "      <td>211</td>\n",
       "    </tr>\n",
       "  </tbody>\n",
       "</table>\n",
       "</div>"
      ],
      "text/plain": [
       "                           period  count\n",
       "time_utc                                \n",
       "2022-06-19 18:20:00+00:00       0     83\n",
       "2022-06-19 18:25:00+00:00       1    517\n",
       "2022-06-19 18:30:00+00:00       2    600\n",
       "2022-06-19 18:35:00+00:00       3    500\n",
       "2022-06-19 18:40:00+00:00       4    600\n",
       "2022-06-19 18:45:00+00:00       5    546\n",
       "2022-06-19 18:50:00+00:00       6    554\n",
       "2022-06-19 18:55:00+00:00       7    600\n",
       "2022-06-19 19:00:00+00:00       8    600\n",
       "2022-06-19 19:05:00+00:00       9    535\n",
       "2022-06-19 19:10:00+00:00      10    565\n",
       "2022-06-19 19:15:00+00:00      11    507\n",
       "2022-06-19 19:20:00+00:00      12    493\n",
       "2022-06-19 19:25:00+00:00      13    500\n",
       "2022-06-19 19:30:00+00:00      14    500\n",
       "2022-06-19 19:35:00+00:00      15    489\n",
       "2022-06-19 19:40:00+00:00      16    211"
      ]
     },
     "execution_count": 44,
     "metadata": {},
     "output_type": "execute_result"
    }
   ],
   "source": [
    "wasm_distributed_100 = pd.read_csv('one-at-a-time/one-invocation_wasm-distributed_100.csv', sep=';', parse_dates=['time_utc']).query('workflow_result==\"succeeded\" and processing_ms > 0')\n",
    "wasm_distributed_100.index = pd.to_datetime(wasm_distributed_100['time_utc'])\n",
    "container_100 = pd.read_csv('one-at-a-time/one-invocation_container_100.csv', sep=';', parse_dates=['time_utc']).query('workflow_result==\"succeeded\" and processing_ms > 0')\n",
    "container_100.index = pd.to_datetime(container_100['time_utc'])\n",
    "\n",
    "grouped_wasm_distributed_100 = wasm_distributed_100.resample('5T').count()\n",
    "grouped_wasm_distributed_100.insert(loc=0, column='period', value=np.arange(len(grouped_wasm_distributed_100)))\n",
    "grouped_container_100 = container_100.resample('5T').count()\n",
    "grouped_container_100.insert(loc=0, column='period', value=np.arange(len(grouped_container_100)))\n",
    "\n",
    "grouped_wasm_distributed_100 = grouped_wasm_distributed_100[['period', 'processing_ms']].rename(columns={'period':'period','processing_ms':'count'})\n",
    "grouped_container_100 = grouped_container_100[['period', 'processing_ms']].rename(columns={'period':'period','processing_ms':'count'})\n",
    "\n",
    "grouped_container_100"
   ]
  },
  {
   "cell_type": "code",
   "execution_count": 45,
   "id": "b54aace0-a0be-449e-acc6-e995c45807bc",
   "metadata": {},
   "outputs": [
    {
     "data": {
      "text/plain": [
       "<AxesSubplot:xlabel='period', ylabel='count'>"
      ]
     },
     "execution_count": 45,
     "metadata": {},
     "output_type": "execute_result"
    },
    {
     "data": {
      "image/png": "[encoded data removed]",
      "text/plain": [
       "<Figure size 432x288 with 1 Axes>"
      ]
     },
     "metadata": {
      "needs_background": "light"
     },
     "output_type": "display_data"
    }
   ],
   "source": [
    "sns.lineplot(x='period', y='count', data=grouped_container_100)"
   ]
  },
  {
   "cell_type": "code",
   "execution_count": 80,
   "id": "6a54475e-74bb-4afa-8be3-1fa75dccf0b0",
   "metadata": {},
   "outputs": [],
   "source": [
    "fig.savefig(\"performance.pdf\")"
   ]
  },
  {
   "cell_type": "code",
   "execution_count": null,
   "id": "c7d32bee-d088-4b62-af80-68b35d627ee6",
   "metadata": {},
   "outputs": [],
   "source": []
  }
 ],
 "metadata": {
  "kernelspec": {
   "display_name": "Python 3 (ipykernel)",
   "language": "python",
   "name": "python3"
  },
  "language_info": {
   "codemirror_mode": {
    "name": "ipython",
    "version": 3
   },
   "file_extension": ".py",
   "mimetype": "text/x-python",
   "name": "python",
   "nbconvert_exporter": "python",
   "pygments_lexer": "ipython3",
   "version": "3.10.5"
  }
 },
 "nbformat": 4,
 "nbformat_minor": 5
}
